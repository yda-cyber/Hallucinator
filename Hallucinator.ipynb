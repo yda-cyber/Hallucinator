{
  "cells": [
    {
      "cell_type": "markdown",
      "metadata": {
        "id": "view-in-github",
        "colab_type": "text"
      },
      "source": [
        "<a href=\"https://colab.research.google.com/github/yda-cyber/Hallucinator/blob/main/Hallucinator.ipynb\" target=\"_parent\"><img src=\"https://colab.research.google.com/assets/colab-badge.svg\" alt=\"Open In Colab\"/></a>"
      ]
    },
    {
      "cell_type": "markdown",
      "source": [
        "Hallucinator with Binding/Cavity Control"
      ],
      "metadata": {
        "id": "1Bh5QKKtZ873"
      }
    },
    {
      "cell_type": "code",
      "execution_count": 1,
      "metadata": {
        "id": "XUWyxlnKMd1R",
        "cellView": "form",
        "outputId": "ac8092b2-f504-407b-940b-d5ac0fbcad03",
        "colab": {
          "base_uri": "https://localhost:8080/"
        }
      },
      "outputs": [
        {
          "output_type": "stream",
          "name": "stdout",
          "text": [
            "[PREPR]: Installing ADFR.\n",
            "[PREPR]: Installing Qvina-W.\n"
          ]
        }
      ],
      "source": [
        "#@title Install Dependencies\n",
        "# @markdown Install ESMFold, OpenFold and Hallucinator\n",
        "# @markdown - This will approximately use 5.5 minutes\n",
        "# @markdown - ESMFold can be used from ESMFold API (online, without GPU). Typically Faster for small proteins.\n",
        "\n",
        "useESMFold = \"online\" # @param [\"local\", \"online\"]\n",
        "\n",
        "import os\n",
        "import time\n",
        "\n",
        "os.system(\"pip install pyKVFinder==0.6.0\")\n",
        "os.system(\"pip install numpy==1.23.5\")\n",
        "os.system(\"git clone https://github.com/yda-cyber/Hallucinator.git\")\n",
        "\n",
        "# Install ADFR\n",
        "if not os.path.isfile('install-ADFR'):\n",
        "  print(\"[PREPR]: Installing ADFR.\")\n",
        "  os.system(\"wget -O install-ADFR https://ccsb.scripps.edu/adfr/download/1028/\")\n",
        "  os.system(\"chmod a+x install-ADFR\")\n",
        "  !echo -e \"Y\\n ADFR\" | ./install-ADFR >/dev/null 2>&1\n",
        "  os.chdir('ADFR/')\n",
        "  os.system('tar -zxvf ADFRsuite_x86_64Linux_1.0.tar.gz')\n",
        "  os.chdir('ADFRsuite_x86_64Linux_1.0/')\n",
        "  os.system('echo -e \"Y\" | ./install.sh >/dev/null 2>&1')\n",
        "  os.system('cp bin/prepare_receptor ../../.')\n",
        "  os.chdir('../..')\n",
        "\n",
        "if not os.path.isfile('qvina-w'):\n",
        "  print(\"[PREPR]: Installing Qvina-W.\")\n",
        "  os.system(\"git clone https://github.com/QVina/qvina.git\")\n",
        "  os.system(\"chmod +x qvina/bin/qvina-w\")\n",
        "  os.system(\"cp qvina/bin/qvina-w .\")\n",
        "\n",
        "os.makedirs(\"results\", exist_ok=True)\n",
        "os.makedirs(\"molecules\", exist_ok=True)\n",
        "\n",
        "if useESMFold == 'local':\n",
        "  if not os.path.isfile(\"esmfold.model\"):\n",
        "\n",
        "    os.system(\"apt-get install aria2 -qq\")\n",
        "    print(\"[PREPR]: Downloading ESMFold from ColabFold.\")\n",
        "    os.system(f\"aria2c -q -x 16 https://colabfold.steineggerlab.workers.dev/esm/esmfold.model &\")\n",
        "\n",
        "    # wait for Params to finish downloading...\n",
        "    if os.path.isfile(f\"esmfold.model.aria2\"):\n",
        "      print(\"[PREPR]: Downloading in progress.\")\n",
        "    while os.path.isfile(f\"esmfold.model.aria2\"):\n",
        "      time.sleep(5)\n",
        "\n",
        "    if not os.path.isfile(\"FoldInstalled.state\"):\n",
        "      commit_id = \"6908936b68ae89f67755240e2f588c09ec31d4c8\"\n",
        "      print(\"[PREPR]: Installing ESMfold Dependencies.\")\n",
        "      os.system(\"pip install -q omegaconf \\\"pytorch_lightning<2\\\" \\\"torch<2\\\" biopython ml_collections einops py3Dmol\")\n",
        "      os.system(\"pip install -q git+https://github.com/NVIDIA/dllogger.git\")\n",
        "      os.system(f\"pip install -q git+https://github.com/aqlaboratory/openfold.git@{commit_id}\")\n",
        "      print(\"[PREPR]: Installing ESMfold\")\n",
        "      os.system(\"pip install -q git+https://github.com/sokrypton/esm.git\")\n",
        "      os.system(\"touch FoldInstalled.state\")"
      ]
    },
    {
      "cell_type": "code",
      "execution_count": 2,
      "metadata": {
        "id": "HUg_TVzxl9jM",
        "cellView": "form"
      },
      "outputs": [],
      "source": [
        "#@title Import Losses and Modules\n",
        "\n",
        "from Hallucinator.ProteinHallucination import Protein_History_MCMC_Logger\n",
        "\n",
        "from Hallucinator.modules.Predict_ESM import predict_esm\n",
        "from Hallucinator.modules.Compute_RMSD import compute_rmsd\n",
        "from Hallucinator.modules.Init_Sequence import init_sequence\n",
        "from Hallucinator.modules.Select_Mutation import select_mutation\n",
        "from Hallucinator.modules.Mutations_BLOSUM62 import mutation_blosum62\n",
        "\n",
        "from Hallucinator.loss.Loss_Function import LossFunction\n",
        "\n",
        "from Hallucinator.loss.Compute_Cavity_Volume_Loss import CavityVolumeLoss\n",
        "from Hallucinator.loss.Compute_Local_Distance_Loss import LocalDistanceLoss\n",
        "from Hallucinator.loss.Compute_Secondary_Ratio_Loss import SecondaryRatioLoss\n",
        "from Hallucinator.loss.Compute_Contact_Density_Loss import ContactDensityLoss\n",
        "from Hallucinator.loss.Compute_Cavity_Similarity_Loss import CavitySimilarityLoss\n",
        "from Hallucinator.loss.Compute_Cavity_Containing_Loss import CavityContainingLoss\n",
        "from Hallucinator.loss.Compute_Protein_Containing_Loss import ProteinContainingLoss\n",
        "from Hallucinator.loss.Compute_Preserve_Structure_Loss import PreserveStructureLoss\n",
        "from Hallucinator.loss.Compute_Truncated_Average_PLDDT_Loss import TruncatedAveragePLDDTLoss\n",
        "from Hallucinator.loss.Compute_Molecule_Binding_Affinity_Loss import MoleculeBindingAffinityLoss\n",
        "from Hallucinator.loss.Compute_Cavity_Containing_Flexible_Loss import CavityContainingFlexibleLoss"
      ]
    },
    {
      "cell_type": "code",
      "source": [
        "#@title Basic Settings\n",
        "Jobname = 'FixSequenceTestG' #@param {type:\"string\"}\n",
        "Length = 100 #@param {type: \"number\"}\n",
        "Steps = 10000 #@param {type: \"number\"}\n",
        "Output_Render_Frequency = 100 #@param {type: 'number'}\n",
        "Start_From_Known_Sequence = False #@param {type:\"boolean\"}\n",
        "#@markdown - Only when you select to start from known sequence, the Intial Sequence and Preservation will be used\n",
        "Initial_Sequence = 'PIAQIHILEGRSDEQKETLIREVSEAISRSLDAPLTSVRVIITEMAKGHFGIGGELASK' #@param {type:\"string\"}\n",
        "Initial_Mutation_Rate = 30 #@param {type:\"number\"}\n",
        "Preserved_Residues = \"1; 10; 11\" #@param {type:\"string\"}\n",
        "#@markdown - Use ; to seperate unwanted amino acids\n",
        "Exclude_Amino_Acid = \"C;H\" #@param {type:\"string\"}\n",
        "#@markdown - Number of guesses before starting hallucination\n",
        "N_Free_Guess = \"10\" #@param [0, 5, 10]\n",
        "#@markdown - Rules for mixing multiple losses\n",
        "Loss_Rule = 'Sum' #@param ['Sum', 'Max']\n",
        "\n",
        "N_Free_Guess = int(N_Free_Guess)"
      ],
      "metadata": {
        "id": "qSsZbgiyRg5k"
      },
      "execution_count": 7,
      "outputs": []
    },
    {
      "cell_type": "code",
      "source": [
        "#@title Set Loss.\n",
        "#@markdown All Loss will be finally normalized. And Max_loss is used for Weighting.\n",
        "#@markdown - For other loss or customizing loss, please use a downloaded version.\n",
        "\n",
        "\n",
        "PLDDTLoss = []\n",
        "POSLoss = []\n",
        "#@markdown Parameters for Truncated PLDDT Loss (With max loss=1)\n",
        "Truncated_PLDDT_Loss = True #@param {type:\"boolean\"}\n",
        "target =  80 #@param {type:\"number\"}\n",
        "pldd_target = target\n",
        "\n",
        "if Truncated_PLDDT_Loss:\n",
        "  PLDDTLoss += [TruncatedAveragePLDDTLoss(30, target)]\n",
        "\n",
        "#@markdown Parameters for Contact Density Loss:\n",
        "#@markdown - Enhance numbers of contact in proteins to make it globularm typically value: 0.035 for L<=150, 0.015 for L<=400\n",
        "Contact_Density_Loss = True #@param {type:\"boolean\"}\n",
        "target = 0.035 #@param {type:\"number\"}\n",
        "max_loss =  5 #@param {type:\"number\"}\n",
        "activate_PLDDT = 10 #@param {type: \"number\"}\n",
        "cdl_max_loss, cdl_target, cdl_activate = target, max_loss, activate_PLDDT\n",
        "\n",
        "if Contact_Density_Loss:\n",
        "  POSLoss += [ContactDensityLoss(target_density=cdl_target, max_loss=cdl_max_loss,\n",
        "                 plddt_activate_value=cdl_activate)]\n",
        "\n",
        "#@markdown Parameters for Explicit Binding Loss (Time Consuming):\n",
        "Explicit_Binding_Loss = False #@param {type:\"boolean\"}\n",
        "#@markdown - Target value varies for different molecules, one can provide a positive numerical value or use Auto functions. Auto functions benchmarked the binding with N(N<=49) reference peptides and use 1.5*max(score)\n",
        "#@markdown - The Auto function may need a significant amount of time (~Dock Ntimes)\n",
        "target =  \"Auto-5\" #@param {type:\"raw\"}\n",
        "\n",
        "#!!!!!!!!!!!!!!!!!!!!!!!!!!!!!!!!!!!!!!!!!!!!!!TODO!!!!!!!!!!!!!!!!!!!!!!!!!!!!!!!!!!!!!!!!!!!#\n",
        "\n",
        "max_loss =  3 #@param {type:\"number\"}\n",
        "activate_PLDDT = 50 #@param {type: \"number\"}\n",
        "mbl_max_loss, mbl_target, mbl_activate = max_loss, target, activate_PLDDT\n",
        "use_example = True #@param {type:\"boolean\"}\n",
        "mbl_file = None\n",
        "\n",
        "#@markdown - If you selected MBL (and not example), please upload the required file (Ligand in PDBQT Format). Examples are in Hallucinator/Molecules:\n",
        "if Explicit_Binding_Loss and not use_example:\n",
        "  from google.colab import files\n",
        "  filename = files.upload()\n",
        "  for f in filename:\n",
        "    os.rename(f, f'molecules/{f}')\n",
        "    print(f'Moved \"{f}\" to the ./molecules/ directory')\n",
        "  mbl_file = 'molecules/'+f\n",
        "if use_example:\n",
        "  mbl_file = 'Hallucinator/molecules/Example.pdbqt'\n",
        "\n",
        "\n",
        "if Explicit_Binding_Loss:\n",
        "  POSLoss += [MoleculeBindingAffinityLoss(mbl_file, max_loss=mbl_max_loss,\n",
        "                      target_score=mbl_target,\n",
        "                      plddt_activate_value=mbl_activate)]\n",
        "\n",
        "#@markdown Parameters for Implicit Cavity Loss (Time Efficient with Step>=0.5):\n",
        "Implicit_Cavity_Loss = True #@param {type:\"boolean\"}\n",
        "#@markdown - Target value varies for different molecules\n",
        "Tolerate_Volume_Diff =  500 #@param {type:\"number\"}\n",
        "#@markdown - Smaller Step will make cavity calculation more accurate but also more expensive\n",
        "Step_KVFinder = 0.6 #@param {type:\"number\"}\n",
        "#@markdown - Whether sidechains are ignored when calculating cavities.\n",
        "Ignore_Sidechains = False #@param {type: \"boolean\"}\n",
        "max_loss =  3 #@param {type:\"number\"}\n",
        "activate_PLDDT = 50 #@param {type: \"number\"}\n",
        "ccl_max_loss, ccl_activate = max_loss, activate_PLDDT\n",
        "use_example = True #@param {type:\"boolean\"}\n",
        "ccl_file = None\n",
        "\n",
        "#@markdown - If you selected ICL (and not example), please upload the required file (Ligand in PDB Format, the Occ column to be vdw radius). Examples are in Hallucinator/Molecules:\n",
        "if Implicit_Cavity_Loss and not use_example:\n",
        "  from google.colab import files\n",
        "  filename = files.upload()\n",
        "  for f in filename:\n",
        "    os.rename(f, f'molecules/{f}')\n",
        "    print(f'Moved \"{f}\" to the ./molecules/ directory')\n",
        "  ccl_file = 'molecules'+ f\n",
        "if use_example:\n",
        "  ccl_file = 'Hallucinator/molecules/Example.pdb'\n",
        "print(ccl_file)\n",
        "\n",
        "#!!!!!!!!!!!!!!!!!!!!!!!!!!!!!!!!!!!!!!!!!!!!!!TODO!!!!!!!!!!!!!!!!!!!!!!!!!!!!!!!!!!!!!!!!!!!#\n",
        "\n",
        "if Implicit_Cavity_Loss:\n",
        "  POSLoss += [CavityContainingLoss(ccl_file, volume_factor=0.01,\n",
        "                  volume_expansion=Tolerate_Volume_Diff,\n",
        "                  similarity_factor=20, similarity_target_diff=0,\n",
        "                  sample_points=10, step=Step_KVFinder,\n",
        "                  backbone_cavity=Ignore_Sidechains,\n",
        "                  max_loss=ccl_max_loss, plddt_activate_value=ccl_activate)]\n",
        "\n"
      ],
      "metadata": {
        "id": "sZF3KvswbjkN",
        "cellView": "form",
        "outputId": "77c09a79-2a50-4060-9126-97684e8895d7",
        "colab": {
          "base_uri": "https://localhost:8080/"
        }
      },
      "execution_count": 8,
      "outputs": [
        {
          "output_type": "stream",
          "name": "stdout",
          "text": [
            "Hallucinator/molecules/Example.pdb\n",
            "[CSLOG]: Targeted volume is 177.98\n"
          ]
        }
      ]
    },
    {
      "cell_type": "code",
      "execution_count": 9,
      "metadata": {
        "id": "24EIUUj8mbIl",
        "outputId": "f61ce787-e1a3-42b5-fc47-65d6ed7a97b9",
        "colab": {
          "base_uri": "https://localhost:8080/",
          "height": 462
        }
      },
      "outputs": [
        {
          "output_type": "stream",
          "name": "stderr",
          "text": [
            "INFO:Logger:[JOBID]: Start with job name FixSequenceTestG.\n",
            "INFO:Logger:[RANDS]: Random seed set as 3397714701\n",
            "INFO:Logger:[SECIT]: Initial Sequence Random Generated.\n"
          ]
        },
        {
          "output_type": "error",
          "ename": "TypeError",
          "evalue": "ignored",
          "traceback": [
            "\u001b[0;31m---------------------------------------------------------------------------\u001b[0m",
            "\u001b[0;31mTypeError\u001b[0m                                 Traceback (most recent call last)",
            "\u001b[0;32m<ipython-input-9-814d0a055f52>\u001b[0m in \u001b[0;36m<cell line: 23>\u001b[0;34m()\u001b[0m\n\u001b[1;32m     21\u001b[0m \u001b[0mseqc\u001b[0m \u001b[0;34m=\u001b[0m \u001b[0;34m[\u001b[0m\u001b[0mseqc\u001b[0m\u001b[0;34m,\u001b[0m \u001b[0;32mNone\u001b[0m\u001b[0;34m,\u001b[0m \u001b[0mmutn\u001b[0m\u001b[0;34m]\u001b[0m \u001b[0;32mif\u001b[0m \u001b[0mStart_From_Known_Sequence\u001b[0m \u001b[0;32melse\u001b[0m \u001b[0;32mNone\u001b[0m\u001b[0;34m\u001b[0m\u001b[0;34m\u001b[0m\u001b[0m\n\u001b[1;32m     22\u001b[0m \u001b[0;34m\u001b[0m\u001b[0m\n\u001b[0;32m---> 23\u001b[0;31m logger = Protein_History_MCMC_Logger(\n\u001b[0m\u001b[1;32m     24\u001b[0m         \u001b[0mlength\u001b[0m\u001b[0;34m=\u001b[0m\u001b[0mleng\u001b[0m\u001b[0;34m,\u001b[0m \u001b[0mexcluded_aas\u001b[0m\u001b[0;34m=\u001b[0m\u001b[0mexaa\u001b[0m\u001b[0;34m,\u001b[0m \u001b[0mtemp\u001b[0m\u001b[0;34m=\u001b[0m\u001b[0;34m[\u001b[0m\u001b[0;36m.05\u001b[0m\u001b[0;34m,\u001b[0m \u001b[0;36m.01\u001b[0m\u001b[0;34m,\u001b[0m \u001b[0;34m(\u001b[0m\u001b[0;36m1e-9\u001b[0m\u001b[0;34m,\u001b[0m \u001b[0;36m5\u001b[0m\u001b[0;34m)\u001b[0m\u001b[0;34m]\u001b[0m\u001b[0;34m,\u001b[0m \u001b[0mstep\u001b[0m\u001b[0;34m=\u001b[0m\u001b[0mSteps\u001b[0m\u001b[0;34m,\u001b[0m\u001b[0;34m\u001b[0m\u001b[0;34m\u001b[0m\u001b[0m\n\u001b[1;32m     25\u001b[0m         \u001b[0mfree_guess\u001b[0m\u001b[0;34m=\u001b[0m\u001b[0mN_Free_Guess\u001b[0m\u001b[0;34m,\u001b[0m \u001b[0mseqc_provided\u001b[0m\u001b[0;34m=\u001b[0m\u001b[0mseqc\u001b[0m\u001b[0;34m,\u001b[0m \u001b[0mpreserve_resid\u001b[0m\u001b[0;34m=\u001b[0m\u001b[0mpres_resid\u001b[0m\u001b[0;34m,\u001b[0m\u001b[0;34m\u001b[0m\u001b[0;34m\u001b[0m\u001b[0m\n",
            "\u001b[0;32m/content/Hallucinator/ProteinHallucination.py\u001b[0m in \u001b[0;36m__init__\u001b[0;34m(self, length, excluded_aas, temp, step, temp_control, free_guess, seqc_provided, preserve_resid, guess_loss_ignore, parent_structure_file, plddt_loss, pos_loss, form_loss, loss_info, pos_rule, plddt_rule, job_name, server_online)\u001b[0m\n\u001b[1;32m    116\u001b[0m         \u001b[0;31m# Init Loss\u001b[0m\u001b[0;34m\u001b[0m\u001b[0;34m\u001b[0m\u001b[0m\n\u001b[1;32m    117\u001b[0m \u001b[0;34m\u001b[0m\u001b[0m\n\u001b[0;32m--> 118\u001b[0;31m         seqc = self.prepare_sequence(length, excluded_aas, free_guess,\n\u001b[0m\u001b[1;32m    119\u001b[0m                                      \u001b[0mseqc_provided\u001b[0m\u001b[0;34m,\u001b[0m \u001b[0mguess_loss_ignore\u001b[0m\u001b[0;34m,\u001b[0m\u001b[0;34m\u001b[0m\u001b[0;34m\u001b[0m\u001b[0m\n\u001b[1;32m    120\u001b[0m                                      parent_structure_file)\n",
            "\u001b[0;32m/content/Hallucinator/ProteinHallucination.py\u001b[0m in \u001b[0;36mprepare_sequence\u001b[0;34m(self, length, excluded_aas, free_guess, seqc_provided, guess_loss_ignore, parent_structure_file)\u001b[0m\n\u001b[1;32m    134\u001b[0m                 \u001b[0mseqc\u001b[0m \u001b[0;34m=\u001b[0m \u001b[0minit_sequence\u001b[0m\u001b[0;34m(\u001b[0m\u001b[0mlength\u001b[0m\u001b[0;34m,\u001b[0m \u001b[0mexcluded_aas\u001b[0m\u001b[0;34m,\u001b[0m \u001b[0mrandom\u001b[0m\u001b[0;34m=\u001b[0m\u001b[0mself\u001b[0m\u001b[0;34m.\u001b[0m\u001b[0mrandom\u001b[0m\u001b[0;34m)\u001b[0m\u001b[0;34m\u001b[0m\u001b[0;34m\u001b[0m\u001b[0m\n\u001b[1;32m    135\u001b[0m             \u001b[0;32melse\u001b[0m\u001b[0;34m:\u001b[0m\u001b[0;34m\u001b[0m\u001b[0;34m\u001b[0m\u001b[0m\n\u001b[0;32m--> 136\u001b[0;31m                 seqc = self.free_guess(free_guess, guess_loss_ignore, length,\n\u001b[0m\u001b[1;32m    137\u001b[0m                                        excluded_aas)\n\u001b[1;32m    138\u001b[0m             \u001b[0mself\u001b[0m\u001b[0;34m.\u001b[0m\u001b[0mparr_seqc\u001b[0m \u001b[0;34m=\u001b[0m \u001b[0;32mNone\u001b[0m\u001b[0;34m\u001b[0m\u001b[0;34m\u001b[0m\u001b[0m\n",
            "\u001b[0;32m/content/Hallucinator/ProteinHallucination.py\u001b[0m in \u001b[0;36mfree_guess\u001b[0;34m(self, num, ignore, length, excluded_aas)\u001b[0m\n\u001b[1;32m    235\u001b[0m         \u001b[0mself\u001b[0m\u001b[0;34m.\u001b[0m\u001b[0mhist_loss_guess\u001b[0m \u001b[0;34m=\u001b[0m \u001b[0;34m[\u001b[0m\u001b[0;34m]\u001b[0m\u001b[0;34m\u001b[0m\u001b[0;34m\u001b[0m\u001b[0m\n\u001b[1;32m    236\u001b[0m         \u001b[0mself\u001b[0m\u001b[0;34m.\u001b[0m\u001b[0mhist_seqc_guess\u001b[0m \u001b[0;34m=\u001b[0m \u001b[0;34m[\u001b[0m\u001b[0;34m]\u001b[0m\u001b[0;34m\u001b[0m\u001b[0;34m\u001b[0m\u001b[0m\n\u001b[0;32m--> 237\u001b[0;31m         \u001b[0;32mfor\u001b[0m \u001b[0mi\u001b[0m \u001b[0;32min\u001b[0m \u001b[0mrange\u001b[0m\u001b[0;34m(\u001b[0m\u001b[0mnum\u001b[0m\u001b[0;34m)\u001b[0m\u001b[0;34m:\u001b[0m\u001b[0;34m\u001b[0m\u001b[0;34m\u001b[0m\u001b[0m\n\u001b[0m\u001b[1;32m    238\u001b[0m             \u001b[0mseqc\u001b[0m \u001b[0;34m=\u001b[0m \u001b[0minit_sequence\u001b[0m\u001b[0;34m(\u001b[0m\u001b[0mlength\u001b[0m\u001b[0;34m,\u001b[0m \u001b[0mexcluded_aas\u001b[0m\u001b[0;34m,\u001b[0m \u001b[0mrandom\u001b[0m\u001b[0;34m=\u001b[0m\u001b[0mself\u001b[0m\u001b[0;34m.\u001b[0m\u001b[0mrandom\u001b[0m\u001b[0;34m)\u001b[0m\u001b[0;34m\u001b[0m\u001b[0;34m\u001b[0m\u001b[0m\n\u001b[1;32m    239\u001b[0m             \u001b[0mplddt\u001b[0m\u001b[0;34m,\u001b[0m \u001b[0mpos\u001b[0m \u001b[0;34m=\u001b[0m \u001b[0mself\u001b[0m\u001b[0;34m.\u001b[0m\u001b[0mpredict_seq\u001b[0m\u001b[0;34m(\u001b[0m\u001b[0mseqc\u001b[0m\u001b[0;34m)\u001b[0m\u001b[0;34m\u001b[0m\u001b[0;34m\u001b[0m\u001b[0m\n",
            "\u001b[0;31mTypeError\u001b[0m: 'str' object cannot be interpreted as an integer"
          ]
        }
      ],
      "source": [
        "#@title Start Hallucinating!\n",
        "\n",
        "import gc\n",
        "import torch\n",
        "import numpy as np\n",
        "\n",
        "if 'logger' in dir():\n",
        "  del logger\n",
        "\n",
        "if torch.cuda.is_available():\n",
        "  torch.cuda.empty_cache()\n",
        "\n",
        "gc.collect()\n",
        "\n",
        "leng = len(Initial_Sequence) if Start_From_Known_Sequence else Length\n",
        "seqc = Initial_Sequence if Start_From_Known_Sequence else None\n",
        "mutn = Initial_Mutation_Rate if Start_From_Known_Sequence else 0\n",
        "exaa = Exclude_Amino_Acid.split(';')\n",
        "job_name = None if Jobname == 'UUID4' else Jobname\n",
        "pres_resid = np.asarray(Preserved_Residues.split(';')).astype('int') if Start_From_Known_Sequence else None\n",
        "seqc = [seqc, None, mutn] if Start_From_Known_Sequence else None\n",
        "\n",
        "logger = Protein_History_MCMC_Logger(\n",
        "        length=leng, excluded_aas=exaa, temp=[.05, .01, (1e-9, 5)], step=Steps,\n",
        "        free_guess=N_Free_Guess, seqc_provided=seqc, preserve_resid=pres_resid,\n",
        "        temp_control='Adaptive', job_name=job_name,\n",
        "        guess_loss_ignore=['TruncatedAveragePLDDTLoss', 'MoleculeBindingAffinityLoss'],\n",
        "        plddt_loss=PLDDTLoss, pos_loss=POSLoss,\n",
        "        form_loss=lambda x, y: x+y, plddt_rule=np.mean,\n",
        "        pos_rule=np.sum if Loss_Rule=='Sum' else np.max,\n",
        "        loss_info=True, server_online=(useESMFold=='online'))\n",
        "\n",
        "logger.mcmc(print_level=Output_Render_Frequency, allow_convergence=0)\n"
      ]
    },
    {
      "cell_type": "code",
      "source": [
        "Length"
      ],
      "metadata": {
        "id": "MiIO0eA2_LhQ"
      },
      "execution_count": null,
      "outputs": []
    },
    {
      "cell_type": "code",
      "source": [],
      "metadata": {
        "id": "7tqQRK0-_MHc"
      },
      "execution_count": null,
      "outputs": []
    }
  ],
  "metadata": {
    "colab": {
      "provenance": [],
      "authorship_tag": "ABX9TyNTPIkhefqHftBd5w/TSZLH",
      "include_colab_link": true
    },
    "kernelspec": {
      "display_name": "Python 3",
      "name": "python3"
    },
    "language_info": {
      "name": "python"
    }
  },
  "nbformat": 4,
  "nbformat_minor": 0
}